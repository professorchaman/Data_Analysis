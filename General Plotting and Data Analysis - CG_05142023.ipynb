{
 "cells": [
  {
   "attachments": {},
   "cell_type": "markdown",
   "metadata": {},
   "source": [
    "## Introduction\n",
    "\n",
    "#### Author - Chaman Gupta\n",
    "#### Last Updated - 05/14/2023\n",
    "\n",
    "Install the following libraries by copying each line to your command prompt/terminal:\n",
    "\n",
    "***\n",
    "`pip install ipywidgets IPython numpy pandas matplotlib scipy pybaselines peakutils tqdm`\n",
    "***"
   ]
  },
  {
   "attachments": {},
   "cell_type": "markdown",
   "metadata": {},
   "source": [
    "### Import Libraries"
   ]
  },
  {
   "cell_type": "code",
   "execution_count": 1,
   "metadata": {
    "code_folding": [],
    "init_cell": true
   },
   "outputs": [],
   "source": [
    "# Import libraries\n",
    "import os\n",
    "from ipywidgets import *\n",
    "from IPython.display import display, clear_output\n",
    "\n",
    "import numpy as np\n",
    "import pandas as pd\n",
    "import matplotlib\n",
    "from matplotlib.animation import FuncAnimation\n",
    "import matplotlib.pyplot as plt\n",
    "from matplotlib.ticker import (MultipleLocator, AutoMinorLocator)\n",
    "\n",
    "from scipy.signal import find_peaks\n",
    "from tqdm import tqdm\n",
    "\n",
    "from helpers.helpers import *\n",
    "from data_reader.datareader import DataReader\n",
    "from intensity_correction.intensitycorrection import i_corr\n",
    "from select_button.selectfilesbutton import SelectFilesButton\n",
    "from plot_config import plot_config\n",
    "from conversion_table import conversion_table\n",
    "from peak_find import find_plot_peaks"
   ]
  },
  {
   "attachments": {},
   "cell_type": "markdown",
   "metadata": {},
   "source": [
    "### Clean Intensity Correction files"
   ]
  },
  {
   "cell_type": "code",
   "execution_count": 2,
   "metadata": {},
   "outputs": [],
   "source": [
    "do_lamp_cleaning = 'n' # y or n\n",
    "\n",
    "if do_lamp_cleaning == 'y':\n",
    "    print(\"\\nSelect lamp files for cleaning and analysis \\n(optional; if none is chosen, default intensity correction factor will be used): \")\n",
    "    selectiCorrFiles = SelectFilesButton()\n",
    "    display(selectiCorrFiles)\n",
    "else:\n",
    "    pass\n"
   ]
  },
  {
   "cell_type": "code",
   "execution_count": 3,
   "metadata": {},
   "outputs": [],
   "source": [
    "## Variables\n",
    "do_baseline_subtraction = 'n' # 'y', 'n'\n",
    "do_median_filtering = 'n' # 'y', 'n'\n",
    "do_data_cleaning = 'n' # 'y', 'n'\n",
    "do_savgol_filtering = 'n' # 'y', 'n'\n",
    "do_conversion = 'n' # 'raman', 'energy', 'n'\n",
    "do_normalize = 'n' # 'relative' scale', 'area', 'n'\n",
    "do_peak_finding = 'n' # 'y', 'n'\n",
    "\n",
    "c_vac = 2.99*10**8 # speed of light in vacuum m/sec\n",
    "laser_source = 532.03 # Excitation source in nm\n",
    "\n",
    "p_order = 5 # Polynomial order for baseline subtraction\n",
    "k_size = 7 # Kernel size for Median Filtering\n",
    "erp = -10\n",
    "k_size_savgol = 11\n",
    "p_order_savgol = 1"
   ]
  },
  {
   "cell_type": "code",
   "execution_count": 4,
   "metadata": {},
   "outputs": [],
   "source": [
    "if do_lamp_cleaning == 'y':\n",
    "    i_corr_cleaning(selectiCorrFiles,do_baseline_subtraction,do_median_filtering,do_data_cleaning,do_savgol_filtering,do_conversion,do_normalize,do_peak_finding,p_order,k_size,erp,k_size_savgol,p_order_savgol)\n",
    "else:\n",
    "    pass"
   ]
  },
  {
   "attachments": {},
   "cell_type": "markdown",
   "metadata": {},
   "source": [
    "## Files for averaging and cosmic ray cleaning"
   ]
  },
  {
   "cell_type": "code",
   "execution_count": 2,
   "metadata": {
    "code_folding": []
   },
   "outputs": [
    {
     "name": "stdout",
     "output_type": "stream",
     "text": [
      "Select data files to remove cosmic rays or average: \n"
     ]
    },
    {
     "data": {
      "application/vnd.jupyter.widget-view+json": {
       "model_id": "befee75e42d54d778affeb016b0ed6e5",
       "version_major": 2,
       "version_minor": 0
      },
      "text/plain": [
       "SelectFilesButton(description='Select File', icon='square-o', style=ButtonStyle(button_color='orange'))"
      ]
     },
     "metadata": {},
     "output_type": "display_data"
    }
   ],
   "source": [
    "print(\"Select data files to remove cosmic rays or average: \")\n",
    "cleanFiles = SelectFilesButton()\n",
    "display(cleanFiles)"
   ]
  },
  {
   "attachments": {},
   "cell_type": "markdown",
   "metadata": {},
   "source": [
    "### Cosmic Ray Removal and Averaging"
   ]
  },
  {
   "cell_type": "code",
   "execution_count": 6,
   "metadata": {},
   "outputs": [],
   "source": [
    "do_cosmic_rays_removal = 'n'\n",
    "if do_cosmic_rays_removal == 'y':\n",
    "    x_data, cosmic_removed_data, averaged_data = remove_cosmic_rays(cleanFiles,batching=True,batch_size=3,average=True)\n",
    "    print(\"cosmic rays removed\")\n",
    "        \n",
    "    plt.plot(x_data,cosmic_removed_data)\n",
    "    if len(averaged_data) > 0:\n",
    "        plt.plot(x_data,averaged_data, color='red', linewidth=2, linestyle='--', label='Averaged')\n",
    "    plt.show()\n",
    "\n",
    "do_data_averaging = 'n'\n",
    "if do_data_averaging == 'y':\n",
    "    x_data, averaged_data = data_averaging(cleanFiles,average=True,batching=True,batch_size=5)\n",
    "    print(\"data averaged\")\n",
    "        \n",
    "    plt.plot(x_data,averaged_data)\n",
    "    plt.show()"
   ]
  },
  {
   "attachments": {},
   "cell_type": "markdown",
   "metadata": {},
   "source": [
    "## Manual Intensity Correction"
   ]
  },
  {
   "cell_type": "code",
   "execution_count": 2,
   "metadata": {},
   "outputs": [
    {
     "name": "stdout",
     "output_type": "stream",
     "text": [
      "Select data files you want to analyze: \n"
     ]
    },
    {
     "data": {
      "application/vnd.jupyter.widget-view+json": {
       "model_id": "133775adeaab474aa827ae38e304f6c0",
       "version_major": 2,
       "version_minor": 0
      },
      "text/plain": [
       "SelectFilesButton(description='Select File', icon='square-o', style=ButtonStyle(button_color='orange'))"
      ]
     },
     "metadata": {},
     "output_type": "display_data"
    }
   ],
   "source": [
    "print(\"Select data files you want to analyze: \")\n",
    "selectFiles = SelectFilesButton()\n",
    "display(selectFiles)\n",
    "\n",
    "do_intensity_correction = 'n'\n",
    "\n",
    "if do_intensity_correction == 'y':\n",
    "    print(\"\\nSelect tungsten halogen (Blue Ocean optics HL2000) lamp spectrum for intensity correction \\n(optional; if none is chosen, default intensity correction factor will be used): \")\n",
    "    selectHalLamp = SelectFilesButton()\n",
    "    display(selectHalLamp)\n",
    "else:\n",
    "    pass"
   ]
  },
  {
   "attachments": {},
   "cell_type": "markdown",
   "metadata": {},
   "source": [
    "## Main Data Processing and Plotting"
   ]
  },
  {
   "cell_type": "code",
   "execution_count": 3,
   "metadata": {
    "code_folding": []
   },
   "outputs": [],
   "source": [
    "## Variables\n",
    "is_fitted_data_file = False # 'y', 'n'\n",
    "do_baseline_subtraction = 'n' # 'y', 'n'\n",
    "do_median_filtering = 'n' # 'y', 'n'\n",
    "do_data_cleaning = 'n' # 'y', 'n'\n",
    "do_savgol_filtering = 'n' # 'y', 'n'\n",
    "do_conversion = 'n' # 'raman', 'energy', 'n'\n",
    "do_normalize = 'n' # 'relative' scale', 'area', 'n'\n",
    "do_peak_finding = 'n' # 'y', 'n'\n",
    "do_slicing = 'n'\n",
    "do_mfv_calc = 'n'\n",
    "do_data_averaging = 'n'\n",
    "\n",
    "hf = 20\n",
    "p_order = 5 # Polynomial order for baseline subtraction\n",
    "k_size = 7 # Kernel size for Median Filtering\n",
    "erp = -5\n",
    "k_size_savgol = 3\n",
    "p_order_savgol = 1\n",
    "\n",
    "start_x = 830\n",
    "end_x = 1020\n",
    "\n",
    "base = 0\n",
    "\n",
    "c_vac = 2.99*10**8 # speed of light in vacuum m/sec\n",
    "laser_source = 532.109 # Excitation source in nm "
   ]
  },
  {
   "cell_type": "code",
   "execution_count": 4,
   "metadata": {
    "code_folding": []
   },
   "outputs": [
    {
     "name": "stderr",
     "output_type": "stream",
     "text": [
      "  0%|          | 0/1 [00:00<?, ?it/s]"
     ]
    },
    {
     "name": "stdout",
     "output_type": "stream",
     "text": [
      "Sample_PL-532nm_Pow_400uW-et_0.3sec-avg_5-300_680-loc_1  01-Frame-05.csv\n"
     ]
    },
    {
     "data": {
      "image/png": "[encoded data removed]",
      "text/plain": [
       "<Figure size 1008x504 with 1 Axes>"
      ]
     },
     "metadata": {
      "needs_background": "light"
     },
     "output_type": "display_data"
    },
    {
     "name": "stderr",
     "output_type": "stream",
     "text": [
      "100%|██████████| 1/1 [00:00<00:00,  1.57it/s]\n"
     ]
    }
   ],
   "source": [
    "fdata = selectFiles.files\n",
    "\n",
    "if do_intensity_correction == 'y': flamp = selectHalLamp.files\n",
    "\n",
    "lab = ['22.55', ]\n",
    "color_lab = ['k','b']\n",
    "power_lab = []\n",
    "\n",
    "# fig1 = plt.figure() # Put this outside loop if you want only one plot with all\n",
    "# cruves. Keep it inside if you want separate plots\n",
    "\n",
    "for i in tqdm(range(0, len(fdata))):\n",
    "    \n",
    "    fig1 = plt.figure(figsize=(14,7))\n",
    "    ax1 = fig1.add_subplot(111) # Put this outside loop if you want only one plot with all cruves. Keep it inside if you want separate plots\n",
    "\n",
    "    head_i, tail_i = os.path.split(fdata[i])\n",
    "    \n",
    "    x_data, y_data, metadata = DataReader(file_name=fdata[i]).read_file()\n",
    "    \n",
    "    # print(metadata)\n",
    "    if do_intensity_correction == 'y': x_data, y_data, intens_data = i_corr(flamp, fdata, i, save_correction=False)\n",
    "    else: intens_data = y_data\n",
    "\n",
    "    if do_slicing == 'y': x_data, y_data, intens_data, start, end = slicing_func(x_data,y_data,intens_data,start_x,end_x)\n",
    "\n",
    "    norm_intens_data = norm_func(x_data,y_data,do_normalize)\n",
    "    \n",
    "    if do_median_filtering == 'y': filt_data = filter_median(norm_intens_data, k_size)\n",
    "    else: filt_data = norm_intens_data\n",
    "\n",
    "    if do_baseline_subtraction == 'y':\n",
    "        base = subtract_bsl(x_data,filt_data,hf)\n",
    "        bsl_subt_data = filt_data - base\n",
    "    else : bsl_subt_data = filt_data\n",
    "\n",
    "    if do_data_cleaning == 'y': cleaned_data = data_cleaning(bsl_subt_data, erp)\n",
    "    else: cleaned_data = bsl_subt_data\n",
    "\n",
    "    if do_savgol_filtering == 'y': savgol_filt_data = filter_savgol(cleaned_data, k_size_savgol,p_order_savgol)\n",
    "    else: savgol_filt_data = cleaned_data\n",
    "\n",
    "    # Use the dictionary to look up actions based on do_conversion\n",
    "    actions = conversion_table.get(do_conversion, conversion_table['wavelength'])\n",
    "\n",
    "    x_val = actions['x_val'](x_data, laser_source)\n",
    "    x_label = actions['x_label']\n",
    "    y_val = actions['y_val'](savgol_filt_data, x_data)\n",
    "\n",
    "    ### Peak Finding    \n",
    "    if do_peak_finding == 'y': find_and_plot_peaks(ax1, x_val, y_val, savgol_filt_data, do_peak_finding='y', w_size=10, p_prom=2, thresh=2) # Call the function to find and plot peaks\n",
    "\n",
    "    if is_fitted_data_file == 'y':\n",
    "        \n",
    "        #The 'lab' is a list to store the labels for locations of peaks. Add or remove based on how many peaks you have in your fitted data file from Fityk.\n",
    "        \n",
    "        color_lab = []\n",
    "        power_lab = []\n",
    "        lab = []\n",
    "        \n",
    "        ax1.scatter(x_data, y_data[:,0]/np.max(y_data[:,0]), marker='o', s=4,alpha=0.8,color='r')\n",
    "        \n",
    "        for j in range(1,col_len-2):\n",
    "            \n",
    "            #Plot wihtout lables\n",
    "            ax1.plot(x_data, y_data[:,j]/np.max(y_data[:,0]), lw=0.8,color='k')\n",
    "            \n",
    "            #Plot with labels\n",
    "            # ax1.plot(x_data, y_data[:,j]/np.max(y_data[:,0]), lw=0.8,color='k', label=str(lab[j-1]) + \" nm -- \" + str.format('{0:.1f}',nm2ram(lab[j-1])) + \" cm$^{-1}$\")\n",
    "            \n",
    "        ax1.plot(x_data, y_data[:,-1]/np.max(y_data[:,0]), lw=3,color='K')\n",
    "    else:\n",
    "        \n",
    "        y_per = y_val\n",
    "                \n",
    "        ax1.plot(x_val, y_per, lw=2, color='k', label=tail_i) # Code line to plot the curves\n",
    "        \n",
    "    # General plot properties are set below\n",
    "    print(tail_i)\n",
    "    # ax1.set_title(f'{tail_i}')\n",
    "    ax1.set_xlabel(x_label)\n",
    "    ax1.set_ylabel('Intensity (counts)')\n",
    "    ax1.set_xlim(x_val[0],x_val[-1])\n",
    "    # ax1.set_ylim(0,25000)\n",
    "    ax1.grid(True,linestyle='--')\n",
    "    \n",
    "    # ax1.set_yticks([])\n",
    "    \n",
    "    #ax1.tick_params(axis='y',which='both',left='off',labelleft='off')\n",
    "\n",
    "    # ax1.xaxis.set_major_locator(MultipleLocator(20))\n",
    "    # ax1.xaxis.set_major_formatter('{x:.0f}')\n",
    "    # ax1.yaxis.set_major_locator(MultipleLocator(5000))\n",
    "    # ax1.yaxis.set_major_formatter('{x:.0f}')\n",
    "\n",
    "    # # For the minor ticks, use no labels; default NullFormatter.\n",
    "    # ax1.xaxis.set_minor_locator(MultipleLocator(10))\n",
    "    # ax1.legend(bbox_to_anchor=(1, 1),title='High Pressure',loc='upper right')\n",
    "\n",
    "    # Add a secondary x-axis\n",
    "    secax = ax1.secondary_xaxis('top', functions=(nm2ram, ram2nm))\n",
    "    secax.set_xlabel(r'Raman Shift (cm$^{-1}$)')\n",
    "    # secax.xaxis.set_major_locator(MultipleLocator(0.05))\n",
    "    # secax.xaxis.set_major_formatter('{x:.2f}')\n",
    "    # secax.xaxis.set_minor_locator(MultipleLocator(0.01))\n",
    "\n",
    "    plt.show()\n",
    "\n",
    "# plt.savefig(os.path.join(head_i,\"../Processed_data\",\"20GPa-SiV_PL-d1.png\"),dpi=300,bbox_inches='tight')"
   ]
  },
  {
   "cell_type": "code",
   "execution_count": null,
   "metadata": {},
   "outputs": [],
   "source": []
  }
 ],
 "metadata": {
  "celltoolbar": "Initialization Cell",
  "interpreter": {
   "hash": "bdbce315960c3776fe868f285029d7a59084f2e8882315e6dd1aa58e67f790cf"
  },
  "kernelspec": {
   "display_name": "Python 3.10.4 64-bit",
   "language": "python",
   "name": "python3"
  },
  "language_info": {
   "codemirror_mode": {
    "name": "ipython",
    "version": 3
   },
   "file_extension": ".py",
   "mimetype": "text/x-python",
   "name": "python",
   "nbconvert_exporter": "python",
   "pygments_lexer": "ipython3",
   "version": "3.10.4"
  },
  "latex_envs": {
   "LaTeX_envs_menu_present": true,
   "autoclose": false,
   "autocomplete": true,
   "bibliofile": "biblio.bib",
   "cite_by": "apalike",
   "current_citInitial": 1,
   "eqLabelWithNumbers": true,
   "eqNumInitial": 1,
   "hotkeys": {
    "equation": "Ctrl-E",
    "itemize": "Ctrl-I"
   },
   "labels_anchors": false,
   "latex_user_defs": false,
   "report_style_numbering": false,
   "user_envs_cfg": false
  },
  "varInspector": {
   "cols": {
    "lenName": 16,
    "lenType": 16,
    "lenVar": 40
   },
   "kernels_config": {
    "python": {
     "delete_cmd_postfix": "",
     "delete_cmd_prefix": "del ",
     "library": "var_list.py",
     "varRefreshCmd": "print(var_dic_list())"
    },
    "r": {
     "delete_cmd_postfix": ") ",
     "delete_cmd_prefix": "rm(",
     "library": "var_list.r",
     "varRefreshCmd": "cat(var_dic_list()) "
    }
   },
   "position": {
    "height": "554px",
    "left": "1550px",
    "right": "20px",
    "top": "120px",
    "width": "350px"
   },
   "types_to_exclude": [
    "module",
    "function",
    "builtin_function_or_method",
    "instance",
    "_Feature"
   ],
   "window_display": false
  }
 },
 "nbformat": 4,
 "nbformat_minor": 4
}
