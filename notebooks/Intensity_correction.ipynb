{
 "cells": [
  {
   "cell_type": "code",
   "execution_count": 4,
   "metadata": {},
   "outputs": [
    {
     "name": "stdout",
     "output_type": "stream",
     "text": [
      "Cubic Spline Polynomial:\n",
      "[ 6.17296423e-08  6.17296423e-08 -4.68748212e-07  5.65063204e-07\n",
      "  1.06489539e-06 -2.89728717e-07  1.80234965e-08 -8.27769223e-10\n",
      "  1.59625804e-08 -1.98350525e-08  7.73666974e-08 -8.01273415e-08\n",
      "  3.65466848e-09  2.83886676e-08 -5.78780855e-08  2.60903424e-07\n",
      " -2.59079611e-07  7.65430209e-08 -3.93324722e-08  1.25346868e-07\n",
      "  3.54745001e-07 -1.70744687e-06  3.81088249e-06 -2.93824308e-06\n",
      "  1.84776982e-06 -3.65956209e-07 -5.53944984e-07  3.66536147e-07\n",
      " -1.16199603e-07 -3.97293773e-06  7.17515054e-06 -7.19406442e-06\n",
      "  1.35550714e-06  1.13480358e-05 -2.81628505e-05  3.50361663e-05\n",
      " -3.50810145e-05  4.79286917e-05 -5.96409522e-05  3.61111170e-05\n",
      " -4.35791586e-06 -2.52665356e-06  6.26613011e-06 -2.29146669e-05\n",
      "  4.50829374e-05 -6.35602829e-05  6.71509940e-05 -4.00412932e-05\n",
      "  7.62777863e-06  7.62777863e-06] * (x - 350.0)**3 + [-1.01103893e-05 -8.25850000e-06 -6.40661073e-06 -2.04690571e-05\n",
      " -3.51716095e-06  2.84297009e-05  1.10459779e-05  1.21273877e-05\n",
      "  1.20777215e-05  1.30354763e-05  1.18453732e-05  1.76478755e-05\n",
      "  1.16383249e-05  1.19124250e-05  1.40415751e-05  5.35986226e-06\n",
      "  4.44953759e-05  5.63343420e-06  1.71148873e-05  1.12150165e-05\n",
      "  3.00170467e-05  8.32287968e-05 -1.72888234e-04  3.98744139e-04\n",
      " -4.19923225e-05  2.35173151e-04  1.80279719e-04  9.71879717e-05\n",
      "  1.52168394e-04  1.34738453e-04 -4.61202207e-04  6.15070374e-04\n",
      " -4.64039289e-04 -2.60713218e-04  1.44149216e-03 -2.78293542e-03\n",
      "  2.47248952e-03 -2.78966265e-03  4.39964110e-03 -4.54650173e-03\n",
      "  8.70165822e-04  2.16478443e-04 -1.62519592e-04  7.77399925e-04\n",
      " -2.65980011e-03  4.10264051e-03 -5.43140192e-03  4.64124718e-03\n",
      " -1.36494679e-03 -2.20780000e-04] * (x - 350.0)**2 + [ 6.30460928e-04  4.46772036e-04  3.00120928e-04  3.13642504e-05\n",
      " -2.08497930e-04  4.06274693e-05  8.30141044e-04  1.29360835e-03\n",
      "  1.77771054e-03  2.27997449e-03  2.77759148e-03  3.51492270e-03\n",
      "  4.24707771e-03  4.83584646e-03  5.48469646e-03  6.45476833e-03\n",
      "  8.94753023e-03  1.14539707e-02  1.25913868e-02  1.40078820e-02\n",
      "  1.60694852e-02  2.17317773e-02  1.72488055e-02  2.85416007e-02\n",
      "  4.63791916e-02  5.60382330e-02  7.68108765e-02  9.06842610e-02\n",
      "  1.03152079e-01  1.17497422e-01  1.01174234e-01  1.08867642e-01\n",
      "  1.16419197e-01  8.01815713e-02  1.39220518e-01  7.21483553e-02\n",
      "  5.66260603e-02  4.07674035e-02  1.21266326e-01  1.13923294e-01\n",
      " -6.98935014e-02 -1.55612882e-02 -1.28633457e-02  1.78806710e-02\n",
      " -7.62393382e-02 -4.09731822e-03 -7.05353889e-02 -1.10043126e-01\n",
      "  5.37718932e-02 -2.55144466e-02] * (x - 350.0)**1 + [4.47218e-02 5.00771e-02 5.37807e-02 5.56725e-02 5.45043e-02 5.31325e-02\n",
      " 6.29991e-02 8.41645e-02 1.14881e-01 1.55394e-01 2.06049e-01 2.84101e-01\n",
      " 3.81752e-01 4.95260e-01 6.24045e-01 9.26149e-01 1.29490e+00 1.82113e+00\n",
      " 2.41748e+00 3.08492e+00 3.82902e+00 4.75188e+00 5.83311e+00 6.73969e+00\n",
      " 8.79635e+00 1.12413e+01 1.45854e+01 1.88074e+01 2.36304e+01 2.91539e+01\n",
      " 3.48690e+01 3.96716e+01 4.57534e+01 5.05837e+01 5.53595e+01 6.24039e+01\n",
      " 6.34335e+01 6.80609e+01 6.91162e+01 7.87235e+01 7.75673e+01 7.57033e+01\n",
      " 7.51506e+01 7.48844e+01 7.48576e+01 7.00315e+01 7.21382e+01 6.34268e+01\n",
      " 6.45226e+01 6.47523e+01]\n"
     ]
    }
   ],
   "source": [
    "import numpy as np\n",
    "from scipy.interpolate import CubicSpline\n",
    "\n",
    "# Read the data from your file\n",
    "data = np.genfromtxt('../030410638_HL-2000-CAL_2014-01-15-14-09_VISEXT1EXT2_FIB.txt', delimiter='\\t', dtype=float)\n",
    "\n",
    "# Extract x and y values from the data\n",
    "x = data[:, 0]\n",
    "y = data[:, 1]\n",
    "\n",
    "# Fit a cubic spline to the data\n",
    "cs = CubicSpline(x, y)\n",
    "\n",
    "# Print out the polynomial representation of the spline\n",
    "coefficients = cs.c\n",
    "n = len(coefficients)\n",
    "\n",
    "polynomial = \"\"\n",
    "for i in range(n):\n",
    "    coefficient = coefficients[i]\n",
    "    if i < n - 1:\n",
    "        polynomial += f\"{coefficient} * (x - {x[0]})**{n - i - 1} + \"\n",
    "    else:\n",
    "        polynomial += str(coefficient)\n",
    "\n",
    "print(\"Cubic Spline Polynomial:\")\n",
    "print(polynomial)"
   ]
  },
  {
   "cell_type": "code",
   "execution_count": 7,
   "metadata": {},
   "outputs": [
    {
     "data": {
      "image/png": "[encoded data removed]",
      "text/plain": [
       "<Figure size 576x432 with 1 Axes>"
      ]
     },
     "metadata": {
      "needs_background": "light"
     },
     "output_type": "display_data"
    }
   ],
   "source": [
    "# Optional: Plot the spline and data points\n",
    "x_new = np.linspace(min(x), max(x), 100)\n",
    "y_new = cs(x_new)\n",
    "\n",
    "plt.figure(figsize=(8, 6))\n",
    "plt.scatter(x, y, label='Data', color='blue')\n",
    "plt.plot(x_new, y_new, label='Cubic Spline', color='red')\n",
    "plt.xlim(350,850)\n",
    "plt.ylim(0,5)\n",
    "plt.xlabel('x')\n",
    "plt.ylabel('y')\n",
    "plt.legend()\n",
    "plt.grid(True)\n",
    "plt.show()"
   ]
  },
  {
   "cell_type": "code",
   "execution_count": null,
   "metadata": {},
   "outputs": [],
   "source": []
  }
 ],
 "metadata": {
  "kernelspec": {
   "display_name": "Python 3",
   "language": "python",
   "name": "python3"
  },
  "language_info": {
   "codemirror_mode": {
    "name": "ipython",
    "version": 3
   },
   "file_extension": ".py",
   "mimetype": "text/x-python",
   "name": "python",
   "nbconvert_exporter": "python",
   "pygments_lexer": "ipython3",
   "version": "3.10.4"
  }
 },
 "nbformat": 4,
 "nbformat_minor": 2
}
